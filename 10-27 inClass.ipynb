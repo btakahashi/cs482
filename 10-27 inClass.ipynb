{
 "cells": [
  {
   "cell_type": "code",
   "execution_count": 37,
   "metadata": {
    "collapsed": false
   },
   "outputs": [
    {
     "name": "stdout",
     "output_type": "stream",
     "text": [
      "Populating the interactive namespace from numpy and matplotlib\n"
     ]
    }
   ],
   "source": [
    "%pylab inline\n",
    "import numpy as np\n",
    "from sklearn import datasets"
   ]
  },
  {
   "cell_type": "code",
   "execution_count": 38,
   "metadata": {
    "collapsed": true
   },
   "outputs": [],
   "source": [
    "class Linear(object):\n",
    "    def __init__(self, n_in, n_out):\n",
    "        self.W = np.random.randn(n_out, n_in)\n",
    "        self.b = np.random.randn(n_out)\n",
    "        \n",
    "        self.output = np.zeros(n_out)\n",
    "        \n",
    "        self.gradInput = np.zeros(n_in)\n",
    "        self.gradW = np.zeros_like(self.W)\n",
    "        self.gradb = np.zeros_like(self.b)\n",
    "        \n",
    "    def updateOutput(self, input):\n",
    "        self.output = np.dot(self.W, input) + self.b\n",
    "        return self.output\n",
    "    \n",
    "    def updateGradInput(self, input, gradOutput):\n",
    "        self.gradInput = np.dot(self.W.T, gradOutput)\n",
    "        return self.gradInput\n",
    "    \n",
    "    def updateGradWeight(self, input, gradOutput):\n",
    "        self.gradW = np.outer(gradOutput, input)\n",
    "        self.gradb = gradOutput\n",
    "        return (self.gradW, self.gradb)"
   ]
  },
  {
   "cell_type": "code",
   "execution_count": 39,
   "metadata": {
    "collapsed": true
   },
   "outputs": [],
   "source": [
    "class Sigmoid(object):\n",
    "    def __init__(self, n_in):\n",
    "        self.output = np.zeros(n_in)\n",
    "        self.gradInput = np.zeros(n_in)\n",
    "    \n",
    "    def updateOutput(self, input):\n",
    "        self.output = 1.0 / (1.0 + np.exp(-input))\n",
    "        return self.output\n",
    "    \n",
    "    def updateGradInput(self, input, gradOutput):\n",
    "        self.gradInput = gradOutput * self.output * (1 - self.output)\n",
    "        return self.gradInput"
   ]
  },
  {
   "cell_type": "code",
   "execution_count": 40,
   "metadata": {
    "collapsed": true
   },
   "outputs": [],
   "source": [
    "class MSELoss(object):\n",
    "    def __init__(self, n_in):\n",
    "        self.output = 0.0\n",
    "        self.gradInput = np.zeros(n_in)\n",
    "        \n",
    "    def updateOutput(self, input, target):\n",
    "        diff = input - target\n",
    "        self.output = np.dot(diff, diff) / diff.shape[0]\n",
    "        return self.output\n",
    "    \n",
    "    def updateGradInput(self, input, target):\n",
    "        self.gradInput = (2.0 / input.shape[0]) * (input - target)\n",
    "        return self.gradInput"
   ]
  },
  {
   "cell_type": "code",
   "execution_count": 41,
   "metadata": {
    "collapsed": true
   },
   "outputs": [],
   "source": [
    "class Classifier(object):\n",
    "    def __init__(self, n_in):\n",
    "        self.linear = Linear(n_in, 5)\n",
    "        self.sigmoid = Sigmoid(5)\n",
    "        self.loss = MSELoss(5)\n",
    "        self.linear2 = Linear( 5, n_in )\n",
    "        self.sigmoid2 = Sigmoid( 1 )\n",
    "        \n",
    "    def forward(self, input, target = None):\n",
    "        out1 = self.linear.updateOutput(input)\n",
    "        out2 = self.sigmoid.updateOutput( out1 )\n",
    "        out3 = self.linear2.updateOutput( out2 )\n",
    "        out4 = self.sigmoid2.updateOutput( out3 )\n",
    "        if target != None:\n",
    "            self.loss.updateOutput(out4, target)\n",
    "        return out4\n",
    "    \n",
    "    def backward(self, input, target):\n",
    "        # Assumes forward has already been called with input\n",
    "        back1 = self.loss.updateGradInput(self.sigmoid2.output, target)\n",
    "        back2 = self.sigmoid2.updateGradInput(self.linear2.output, back1)\n",
    "        back3 = self.linear2.updateGradInput( self.sigmoid.output, back2 )\n",
    "        back4 = self.linear2.updateGradWeight( self.sigmoid.output, back2 )\n",
    "        back5 = self.sigmoid.updateGradInput( self.linear.output, back3 )\n",
    "        back6 = self.linear.updateGradInput(input, back5)\n",
    "        grads = self.linear.updateGradWeight(input, back5)\n",
    "        return grads\n",
    "    \n",
    "    def predict(self, input):\n",
    "        out = self.forward(input).all()\n",
    "        if out <= 0.5:\n",
    "            return 0\n",
    "        else:\n",
    "            return 1"
   ]
  },
  {
   "cell_type": "code",
   "execution_count": 42,
   "metadata": {
    "collapsed": false
   },
   "outputs": [
    {
     "data": {
      "text/plain": [
       "<matplotlib.collections.PathCollection at 0x7fe33e04e410>"
      ]
     },
     "execution_count": 42,
     "metadata": {},
     "output_type": "execute_result"
    },
    {
     "data": {
      "image/png": "[encoded data removed]",
      "text/plain": [
       "<matplotlib.figure.Figure at 0x7fe33e6b9c50>"
      ]
     },
     "metadata": {},
     "output_type": "display_data"
    }
   ],
   "source": [
    "(easy_x, easy_y) = datasets.make_classification(n_samples=400, n_features = 2, n_informative = 2,\n",
    "                             n_redundant = 0, n_repeated = 0, n_clusters_per_class=1, class_sep=2)\n",
    "scatter(easy_x[:,0], easy_x[:,1], c = easy_y, cmap = 'cool')"
   ]
  },
  {
   "cell_type": "code",
   "execution_count": 43,
   "metadata": {
    "collapsed": false
   },
   "outputs": [],
   "source": [
    "classifier = Classifier(2)"
   ]
  },
  {
   "cell_type": "code",
   "execution_count": 44,
   "metadata": {
    "collapsed": false
   },
   "outputs": [
    {
     "name": "stdout",
     "output_type": "stream",
     "text": [
      "[[ 1.13423223 -0.86214938]\n",
      " [-0.42205488 -0.86656493]\n",
      " [-0.44705663  0.70047912]\n",
      " [ 0.51979766 -0.28938362]\n",
      " [-0.60507913 -0.66512686]] [-0.15180838 -1.08019414  1.00149968  2.22904378 -0.28237752]\n"
     ]
    },
    {
     "data": {
      "text/plain": [
       "<matplotlib.collections.PathCollection at 0x7fe33df1f610>"
      ]
     },
     "execution_count": 44,
     "metadata": {},
     "output_type": "execute_result"
    },
    {
     "data": {
      "image/png": "[encoded data removed]",
      "text/plain": [
       "<matplotlib.figure.Figure at 0x7fe33e9e6210>"
      ]
     },
     "metadata": {},
     "output_type": "display_data"
    }
   ],
   "source": [
    "h = 0.05 # mesh size\n",
    "x_min, x_max = easy_x[:, 0].min() - 1, easy_x[:,0].max() + 1\n",
    "y_min, y_max = easy_x[:, 1].min() - 1, easy_x[:,1].max() + 1\n",
    "xx, yy = np.meshgrid(np.arange(x_min, x_max, h), np.arange(y_min, y_max, h))\n",
    "Z = []\n",
    "for pt in np.c_[xx.ravel(), yy.ravel()]:\n",
    "    Z.append(classifier.predict(pt))\n",
    "Z = np.asarray(Z)\n",
    "Z = Z.reshape(xx.shape)\n",
    "figure()\n",
    "pcolormesh(xx,yy, Z, cmap='cool')\n",
    "\n",
    "print classifier.linear.W, classifier.linear.b\n",
    "\n",
    "scatter(easy_x[:,0], easy_x[:,1], c=easy_y, cmap='cool')"
   ]
  },
  {
   "cell_type": "code",
   "execution_count": 45,
   "metadata": {
    "collapsed": false
   },
   "outputs": [],
   "source": [
    "# training\n",
    "for i in range(1000):\n",
    "    for j in range(easy_x.shape[0]):\n",
    "        err = classifier.forward(easy_x[j], easy_y[j])\n",
    "        grads = classifier.backward(easy_x[j], easy_y[j])\n",
    "        \n",
    "        classifier.linear.W -= 1e-3 * grads[0]\n",
    "        classifier.linear.b -= 1e-3 * grads[1]"
   ]
  },
  {
   "cell_type": "code",
   "execution_count": 46,
   "metadata": {
    "collapsed": false
   },
   "outputs": [
    {
     "name": "stdout",
     "output_type": "stream",
     "text": [
      "[[-0.28477273 -2.23671194]\n",
      " [ 0.03575652 -0.43462412]\n",
      " [-2.02669653 -1.23290197]\n",
      " [-1.435828   -2.54487309]\n",
      " [-1.02233568 -1.16617925]] [-0.65192122 -1.16251109  0.0029463   1.13022    -0.52963211]\n"
     ]
    },
    {
     "data": {
      "text/plain": [
       "<matplotlib.collections.PathCollection at 0x7fe33ddf4810>"
      ]
     },
     "execution_count": 46,
     "metadata": {},
     "output_type": "execute_result"
    },
    {
     "data": {
      "image/png": "[encoded data removed]",
      "text/plain": [
       "<matplotlib.figure.Figure at 0x7fe33e252910>"
      ]
     },
     "metadata": {},
     "output_type": "display_data"
    }
   ],
   "source": [
    "h = 0.05 # mesh size\n",
    "x_min, x_max = easy_x[:, 0].min() - 1, easy_x[:,0].max() + 1\n",
    "y_min, y_max = easy_x[:, 1].min() - 1, easy_x[:,1].max() + 1\n",
    "xx, yy = np.meshgrid(np.arange(x_min, x_max, h), np.arange(y_min, y_max, h))\n",
    "Z = []\n",
    "for pt in np.c_[xx.ravel(), yy.ravel()]:\n",
    "    Z.append(classifier.predict(pt))\n",
    "Z = np.asarray(Z)\n",
    "Z = Z.reshape(xx.shape)\n",
    "figure()\n",
    "pcolormesh(xx,yy, Z, cmap='cool')\n",
    "\n",
    "print classifier.linear.W, classifier.linear.b\n",
    "\n",
    "scatter(easy_x[:,0], easy_x[:,1], c=easy_y, cmap='cool')"
   ]
  },
  {
   "cell_type": "code",
   "execution_count": null,
   "metadata": {
    "collapsed": true
   },
   "outputs": [],
   "source": []
  },
  {
   "cell_type": "code",
   "execution_count": null,
   "metadata": {
    "collapsed": true
   },
   "outputs": [],
   "source": []
  },
  {
   "cell_type": "code",
   "execution_count": null,
   "metadata": {
    "collapsed": true
   },
   "outputs": [],
   "source": []
  }
 ],
 "metadata": {
  "kernelspec": {
   "display_name": "Python 2",
   "language": "python",
   "name": "python2"
  },
  "language_info": {
   "codemirror_mode": {
    "name": "ipython",
    "version": 2
   },
   "file_extension": ".py",
   "mimetype": "text/x-python",
   "name": "python",
   "nbconvert_exporter": "python",
   "pygments_lexer": "ipython2",
   "version": "2.7.6"
  }
 },
 "nbformat": 4,
 "nbformat_minor": 0
}
