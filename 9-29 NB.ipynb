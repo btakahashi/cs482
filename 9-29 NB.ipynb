{
 "cells": [
  {
   "cell_type": "markdown",
   "metadata": {},
   "source": [
    "Make a class the represents y = Ax + b <br>\n",
    "Assume X exists in Rn <br>\n",
    "Assume Y exists in Rm <br>\n",
    "constructor takes n, m <br>\n",
    "generate RANDOM A, b <br>\n",
    "functionUpdate output takes x and returns Ax + b <br>\n",
    "updateOutput should cache Ax + b in self.output <br>\n",
    "<br>\n",
    "As of 9/29<br>\n",
    "updateGradInput - takes input & gradOutput<br>\n",
    "updateGradWeight - input, gradOutput<br>\n",
    "input = x<br>\n",
    "gradOutput = dL/dY"
   ]
  },
  {
   "cell_type": "code",
   "execution_count": 10,
   "metadata": {
    "collapsed": false
   },
   "outputs": [],
   "source": [
    "import random\n",
    "import numpy as np\n",
    "\n",
    "class xForm:\n",
    "    def __init__( self, n, m, A = np.zeros( 0 ), b = np.array( 0 ), output = np.array( 0 ) ):\n",
    "        self.n = n; # num rows\n",
    "        self.m = m; # num cols\n",
    "        self.A = np.zeros( (n,m) ) # generate reference matrix\n",
    "        for i in range( n ):\n",
    "            for j in range( m ):\n",
    "                self.A[i,j] = np.random.random_integers( 0, 10 )\n",
    "        self.b = np.random.random_integers( 0, 10, n )\n",
    "    \n",
    "    # generate a 0's matrix for reference\n",
    "    def outZ( self ):\n",
    "        return np.zeros( (self.n,self.m) )\n",
    "    \n",
    "    # print matrix A\n",
    "    def outA( self ):\n",
    "        return self.A\n",
    "    \n",
    "    # print array b\n",
    "    def outB( self ):\n",
    "        return self.b\n",
    "    \n",
    "    # solve for y in y = Ax + b\n",
    "    def updateOutput( self, x ):\n",
    "        x = np.dot( self.A, x )\n",
    "        x = x + self.b\n",
    "        self.output = x\n",
    "        return x\n",
    "    \n",
    "    # solve for dL/dx\n",
    "    def updateGradInput( self, x, gradOutput ):\n",
    "        np.dot( np.transpose( self.A ), gradOutput )\n",
    "    \n",
    "    #solve for dL/dA\n",
    "    def updateGradWeight( self, x, gradOutput ):\n",
    "        np.outer( gradOutput, np.transpose( x ) )"
   ]
  },
  {
   "cell_type": "code",
   "execution_count": 11,
   "metadata": {
    "collapsed": false
   },
   "outputs": [],
   "source": [
    "test = xForm( 3, 2 )\n",
    "#print test.outA( )\n",
    "#print\n",
    "#print test.outB( )\n",
    "#print\n",
    "y = np.array( [4,3] )\n",
    "y = test.updateOutput( y )\n",
    "#print x"
   ]
  },
  {
   "cell_type": "code",
   "execution_count": null,
   "metadata": {
    "collapsed": true
   },
   "outputs": [],
   "source": []
  }
 ],
 "metadata": {
  "kernelspec": {
   "display_name": "Python 2",
   "language": "python",
   "name": "python2"
  },
  "language_info": {
   "codemirror_mode": {
    "name": "ipython",
    "version": 2
   },
   "file_extension": ".py",
   "mimetype": "text/x-python",
   "name": "python",
   "nbconvert_exporter": "python",
   "pygments_lexer": "ipython2",
   "version": "2.7.6"
  }
 },
 "nbformat": 4,
 "nbformat_minor": 0
}
