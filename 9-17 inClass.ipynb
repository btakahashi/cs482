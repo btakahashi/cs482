{
 "cells": [
  {
   "cell_type": "markdown",
   "metadata": {},
   "source": [
    "Make a class the represents y = Ax + b <br>\n",
    "Assume X exists in Rn <br>\n",
    "Assume Y exists in Rm <br>\n",
    "constructor takes n, m <br>\n",
    "generate RANDOM A, b <br>\n",
    "functionUpdate output takes x and returns Ax + b <br>\n",
    "updateOutput should cache Ax + b in self.output <br>"
   ]
  },
  {
   "cell_type": "code",
   "execution_count": 131,
   "metadata": {
    "collapsed": false
   },
   "outputs": [],
   "source": [
    "import random\n",
    "import numpy as np\n",
    "\n",
    "class xForm:\n",
    "    def __init__( self, n, m, A = np.zeros( 0 ), b = np.array( 0 ), output = np.array( 0 ) ):\n",
    "        self.n = n; # num rows\n",
    "        self.m = m; # num cols\n",
    "        self.A = np.zeros( (n,m) ) # generate reference matrix\n",
    "        for i in range( m ):\n",
    "            for j in range( n ):\n",
    "                self.A[j,i] = np.random.random_integers( 0, 10 )\n",
    "        self.b = np.random.random_integers( 0, 10, n )\n",
    "    \n",
    "    # generate a 0's matrix for reference\n",
    "    def outZ( self ):\n",
    "        return np.zeros( (self.n,self.m) )\n",
    "    \n",
    "    # print matrix A\n",
    "    def outA( self ):\n",
    "        return self.A\n",
    "    \n",
    "    # print array b\n",
    "    def outB( self ):\n",
    "        return self.b\n",
    "    \n",
    "    # attempt Ax = b\n",
    "    def update( self ):\n",
    "        self.output = np.linalg.solve( self.A, self.b )\n",
    "        return np.linalg.solve( self.A, self.b )\n",
    "        "
   ]
  },
  {
   "cell_type": "code",
   "execution_count": 132,
   "metadata": {
    "collapsed": false
   },
   "outputs": [
    {
     "name": "stdout",
     "output_type": "stream",
     "text": [
      "[[  4.   3.   0.   6.   7.]\n",
      " [  8.   2.   7.   2.   5.]\n",
      " [  4.   4.   0.  10.   6.]\n",
      " [  5.   0.   6.   0.   3.]\n",
      " [  2.   7.  10.   2.   4.]]\n",
      "\n",
      "[4 7 5 1 3]\n",
      "\n",
      "[ 2.   2.  -1.  -0.5 -1. ]\n"
     ]
    }
   ],
   "source": [
    "test = xForm( 5, 5 )\n",
    "print test.outA( )\n",
    "print\n",
    "print test.outB( )\n",
    "print\n",
    "x = np.array\n",
    "x = test.update( )\n",
    "print x"
   ]
  },
  {
   "cell_type": "code",
   "execution_count": null,
   "metadata": {
    "collapsed": true
   },
   "outputs": [],
   "source": []
  }
 ],
 "metadata": {
  "kernelspec": {
   "display_name": "Python 2",
   "language": "python",
   "name": "python2"
  },
  "language_info": {
   "codemirror_mode": {
    "name": "ipython",
    "version": 2
   },
   "file_extension": ".py",
   "mimetype": "text/x-python",
   "name": "python",
   "nbconvert_exporter": "python",
   "pygments_lexer": "ipython2",
   "version": "2.7.6"
  }
 },
 "nbformat": 4,
 "nbformat_minor": 0
}
