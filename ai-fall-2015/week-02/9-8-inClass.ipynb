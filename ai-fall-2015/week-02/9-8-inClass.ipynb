{
 "cells": [
  {
   "cell_type": "code",
   "execution_count": 19,
   "metadata": {
    "collapsed": false
   },
   "outputs": [
    {
     "data": {
      "text/plain": [
       "array([3, 6])"
      ]
     },
     "execution_count": 19,
     "metadata": {},
     "output_type": "execute_result"
    }
   ],
   "source": [
    "import numpy as np\n",
    "\n",
    "def f1(x,y):\n",
    "    vec_1 = np.asvector(x) # what...\n",
    "    vec_2 = np.asarray(y)\n",
    "    return np.add(vec_1,vec_2)\n",
    "\n",
    "# can return x + y or vec_1 + vec_2\n",
    "\n",
    "# adds 2 arrays\n",
    "\n",
    "f( [1,1],[2,5] )"
   ]
  },
  {
   "cell_type": "code",
   "execution_count": 20,
   "metadata": {
    "collapsed": false
   },
   "outputs": [
    {
     "data": {
      "text/plain": [
       "array([600,  18])"
      ]
     },
     "execution_count": 20,
     "metadata": {},
     "output_type": "execute_result"
    }
   ],
   "source": [
    "def f2(a,x):\n",
    "    return np.multiply(a,x)\n",
    "\n",
    "# multiplies an array by a scalar\n",
    "\n",
    "f2( 6,[100,3] )"
   ]
  },
  {
   "cell_type": "code",
   "execution_count": 47,
   "metadata": {
    "collapsed": false
   },
   "outputs": [
    {
     "data": {
      "text/plain": [
       "array([ 0.70710678,  0.70710678])"
      ]
     },
     "execution_count": 47,
     "metadata": {},
     "output_type": "execute_result"
    }
   ],
   "source": [
    "def f3(x):\n",
    "    arr_1 = np.asarray(x)\n",
    "    norm = 0.0\n",
    "    norm = np.sum(arr_1 * arr_1)\n",
    "    norm = np.sqrt(norm)\n",
    "    \n",
    "    return np.multiply( x, 1/norm )\n",
    "\n",
    "# calcs the norm of each component\n",
    "\n",
    "f3( [1,1] )"
   ]
  },
  {
   "cell_type": "code",
   "execution_count": 34,
   "metadata": {
    "collapsed": false
   },
   "outputs": [
    {
     "data": {
      "text/plain": [
       "5.6568542494923806"
      ]
     },
     "execution_count": 34,
     "metadata": {},
     "output_type": "execute_result"
    }
   ],
   "source": [
    "def f4(x):\n",
    "    return np.linalg.norm(x)\n",
    "\n",
    "# calcs the norm of the whole vector\n",
    "\n",
    "f4( [4,4] )"
   ]
  },
  {
   "cell_type": "code",
   "execution_count": 53,
   "metadata": {
    "collapsed": false
   },
   "outputs": [
    {
     "data": {
      "text/plain": [
       "array([ 0.99330715,  0.98201379,  0.95257413])"
      ]
     },
     "execution_count": 53,
     "metadata": {},
     "output_type": "execute_result"
    }
   ],
   "source": [
    "def f5(x):\n",
    "    npa = np.asarray(x)\n",
    "    sig = lambda x: (1.0 / ( 1.0 + np.exp(-x)))\n",
    "    \n",
    "    return sig(npa)\n",
    "\n",
    "f5([5,4,3])"
   ]
  },
  {
   "cell_type": "code",
   "execution_count": 55,
   "metadata": {
    "collapsed": false
   },
   "outputs": [
    {
     "data": {
      "text/plain": [
       "matrix([[1, 2, 3]])"
      ]
     },
     "execution_count": 55,
     "metadata": {},
     "output_type": "execute_result"
    }
   ],
   "source": [
    "def f6(m, nrows, ncols):\n",
    "    npm = np.matrix(m)\n",
    "    \n",
    "    return npm\n",
    "\n",
    "f6([1,2,3],2,1)"
   ]
  },
  {
   "cell_type": "code",
   "execution_count": 60,
   "metadata": {
    "collapsed": false
   },
   "outputs": [
    {
     "data": {
      "text/plain": [
       "4"
      ]
     },
     "execution_count": 60,
     "metadata": {},
     "output_type": "execute_result"
    }
   ],
   "source": [
    "def f7(x,y):\n",
    "    npm = np.matrix(x)\n",
    "    npm_2 = np.matrix(y)\n",
    "    s = np.sum(np.multiply(npm, npm_2))\n",
    "    return s\n",
    "\n",
    "f7([1,2],[2,1])"
   ]
  },
  {
   "cell_type": "code",
   "execution_count": null,
   "metadata": {
    "collapsed": true
   },
   "outputs": [],
   "source": [
    "def f8(m,x,nrows,ncols):\n",
    "    "
   ]
  }
 ],
 "metadata": {
  "kernelspec": {
   "display_name": "Python 2",
   "language": "python",
   "name": "python2"
  },
  "language_info": {
   "codemirror_mode": {
    "name": "ipython",
    "version": 2
   },
   "file_extension": ".py",
   "mimetype": "text/x-python",
   "name": "python",
   "nbconvert_exporter": "python",
   "pygments_lexer": "ipython2",
   "version": "2.7.6"
  }
 },
 "nbformat": 4,
 "nbformat_minor": 0
}
