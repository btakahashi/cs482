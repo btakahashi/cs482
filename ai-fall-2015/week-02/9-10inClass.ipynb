{
 "cells": [
  {
   "cell_type": "code",
   "execution_count": 1,
   "metadata": {
    "collapsed": false
   },
   "outputs": [
    {
     "data": {
      "text/plain": [
       "array([3, 6])"
      ]
     },
     "execution_count": 1,
     "metadata": {},
     "output_type": "execute_result"
    }
   ],
   "source": [
    "import numpy as np\n",
    "\n",
    "def f1(x,y):\n",
    "    vec_1 = np.asarray(x)\n",
    "    vec_2 = np.asarray(y)\n",
    "    return np.add(vec_1,vec_2)\n",
    "\n",
    "# adds 2 arrays\n",
    "\n",
    "f1( [1,1],[2,5] )"
   ]
  },
  {
   "cell_type": "code",
   "execution_count": 2,
   "metadata": {
    "collapsed": false
   },
   "outputs": [
    {
     "data": {
      "text/plain": [
       "array([600,  18])"
      ]
     },
     "execution_count": 2,
     "metadata": {},
     "output_type": "execute_result"
    }
   ],
   "source": [
    "def f2(a,x):\n",
    "    return np.multiply(a,x)\n",
    "\n",
    "# multiplies an array by a scalar\n",
    "\n",
    "f2( 6,[100,3] )"
   ]
  },
  {
   "cell_type": "code",
   "execution_count": 3,
   "metadata": {
    "collapsed": false
   },
   "outputs": [
    {
     "data": {
      "text/plain": [
       "array([ 0.70710678,  0.70710678])"
      ]
     },
     "execution_count": 3,
     "metadata": {},
     "output_type": "execute_result"
    }
   ],
   "source": [
    "def f3(x):\n",
    "    arr_1 = np.asarray(x)\n",
    "    norm = 0.0\n",
    "    norm = np.sum(arr_1 * arr_1)\n",
    "    norm = np.sqrt(norm)\n",
    "    \n",
    "    return np.multiply( x, 1/norm )\n",
    "\n",
    "# calcs the norm of each component\n",
    "\n",
    "f3( [1,1] )"
   ]
  },
  {
   "cell_type": "code",
   "execution_count": 4,
   "metadata": {
    "collapsed": false
   },
   "outputs": [
    {
     "data": {
      "text/plain": [
       "5.6568542494923806"
      ]
     },
     "execution_count": 4,
     "metadata": {},
     "output_type": "execute_result"
    }
   ],
   "source": [
    "def f4(x):\n",
    "    return np.linalg.norm(x)\n",
    "\n",
    "# calcs the norm of the whole vector\n",
    "\n",
    "f4( [4,4] )"
   ]
  },
  {
   "cell_type": "code",
   "execution_count": 5,
   "metadata": {
    "collapsed": false
   },
   "outputs": [
    {
     "data": {
      "text/plain": [
       "array([ 0.99330715,  0.98201379,  0.95257413])"
      ]
     },
     "execution_count": 5,
     "metadata": {},
     "output_type": "execute_result"
    }
   ],
   "source": [
    "def f5(x):\n",
    "    npa = np.asarray(x)\n",
    "    sig = lambda x: (1.0 / ( 1.0 + np.exp(-x)))\n",
    "    \n",
    "    return sig(npa)\n",
    "\n",
    "f5([5,4,3])"
   ]
  },
  {
   "cell_type": "code",
   "execution_count": 6,
   "metadata": {
    "collapsed": false
   },
   "outputs": [
    {
     "name": "stdout",
     "output_type": "stream",
     "text": [
      "True\n",
      "\n",
      "True\n"
     ]
    }
   ],
   "source": [
    "def f6(m, nrows, ncols):\n",
    "    for i in range(nrows):\n",
    "        for j in range(ncols):\n",
    "            if m[ncols * i + j] != m[ncols * j + i]:\n",
    "                return False\n",
    "    return True\n",
    "\n",
    "def f6c(m, nrows, ncols):\n",
    "    npa = np.array(m)\n",
    "    npb = np.reshape(npa, (nrows, ncols))\n",
    "    \n",
    "    return (npb == npb.T).all()\n",
    "    \n",
    "print f6([1,2,2,1],2,2)\n",
    "print\n",
    "print f6c([2,4,4,2], 2, 2)\n"
   ]
  },
  {
   "cell_type": "code",
   "execution_count": 51,
   "metadata": {
    "collapsed": false
   },
   "outputs": [
    {
     "name": "stdout",
     "output_type": "stream",
     "text": [
      "12.0\n"
     ]
    },
    {
     "data": {
      "text/plain": [
       "matrix([[12]])"
      ]
     },
     "execution_count": 51,
     "metadata": {},
     "output_type": "execute_result"
    }
   ],
   "source": [
    "def f7(x,y):\n",
    "    s = 0.0\n",
    "    if len(x) != len(y):\n",
    "        raise ValueError(\"lengths differ.\")\n",
    "    for i,v in enumerate(x):\n",
    "        s += x[i] * y[i]\n",
    "    return s\n",
    "\n",
    "def f7c(x,y):\n",
    "    npm = np.matrix(x)\n",
    "    npm_2 = np.matrix(y)\n",
    "    #s = np.sum(np.multiply(npm, npm_2)) #use np.dot\n",
    "    s = np.dot(npm, npm_2.T)\n",
    "    return s\n",
    "\n",
    "print f7([1,2],[2,5])\n",
    "f7c([1,2],[2,5])"
   ]
  },
  {
   "cell_type": "code",
   "execution_count": 46,
   "metadata": {
    "collapsed": false
   },
   "outputs": [
    {
     "name": "stdout",
     "output_type": "stream",
     "text": [
      "[16.0, 36.0, 32.0]\n",
      "\n",
      "[[16 36 32]]\n"
     ]
    }
   ],
   "source": [
    "def f8(m, x, nrows, ncols):\n",
    "    result = []\n",
    "    if len(x) != ncols:\n",
    "        raise ValueError(\"m and x have incompatible sizes.\")\n",
    "    for i, v in enumerate(x):\n",
    "        result.append(f7(m[i * ncols : (i+1)*ncols], x))\n",
    "    return result\n",
    "\n",
    "def f8c(m,x,nrows,ncols):\n",
    "    npm = np.matrix(m)\n",
    "    npm = np.reshape(npm, (nrows,ncols))\n",
    "    npv = np.asarray(x)\n",
    "    \n",
    "    return np.dot(npm, npv)\n",
    "\n",
    "print f8([3,2,1,4,5,4,3,4,5],[2,4,2],3,3)\n",
    "print\n",
    "print f8c([3,2,1,4,5,4,3,4,5],[2,4,2],3,3)"
   ]
  },
  {
   "cell_type": "code",
   "execution_count": 47,
   "metadata": {
    "collapsed": false
   },
   "outputs": [
    {
     "name": "stdout",
     "output_type": "stream",
     "text": [
      "[-0.13299607549670409, 0.14664210369407435, 0.08768015819059143, -0.16856898833585898, 0.0755695069531221]\n",
      "\n"
     ]
    },
    {
     "data": {
      "text/plain": [
       "array([-0.08729116,  0.02252197, -0.02058702,  0.01969302,  0.12880577,\n",
       "        0.07451925])"
      ]
     },
     "execution_count": 47,
     "metadata": {},
     "output_type": "execute_result"
    }
   ],
   "source": [
    "import random\n",
    "def f9(length):\n",
    "    result = []\n",
    "    if length <= 0:\n",
    "        raise ValueError(\"Need a positive argument.\")\n",
    "    for i in range(length):\n",
    "        result.append(random.gauss(0, 0.1))\n",
    "    return result\n",
    "\n",
    "def f9c(length):\n",
    "    if length <= 0:\n",
    "        raise ValueError(\"Need a positive argument.\")\n",
    "    else:\n",
    "        result = np.asarray(np.random.normal(0,0.1,length))\n",
    "    return result\n",
    "print f9(5)\n",
    "print\n",
    "f9c(6)"
   ]
  },
  {
   "cell_type": "code",
   "execution_count": 48,
   "metadata": {
    "collapsed": false
   },
   "outputs": [
    {
     "name": "stdout",
     "output_type": "stream",
     "text": [
      "-1\n",
      "\n"
     ]
    },
    {
     "data": {
      "text/plain": [
       "-1"
      ]
     },
     "execution_count": 48,
     "metadata": {},
     "output_type": "execute_result"
    }
   ],
   "source": [
    "def f10(x):\n",
    "    if len(x) == 0:\n",
    "        raise ValueError(\"need a nonempty x.\")\n",
    "    minval = x[0]\n",
    "    for v in x:\n",
    "        if v <= minval:\n",
    "            minval = v\n",
    "    return minval\n",
    "\n",
    "def f10c(x):\n",
    "    if len(x) == 0:\n",
    "        raise ValueError(\"need a nonempty x.\")\n",
    "    npa = np.asarray(x)\n",
    "    return np.amin(npa)\n",
    "\n",
    "print f10([1,2,3,4,0,6,5,-1])\n",
    "print\n",
    "f10c([1,2,3,4,0,6,5,-1])\n",
    "    "
   ]
  },
  {
   "cell_type": "code",
   "execution_count": 49,
   "metadata": {
    "collapsed": false
   },
   "outputs": [
    {
     "name": "stdout",
     "output_type": "stream",
     "text": [
      "6\n",
      "\n"
     ]
    },
    {
     "data": {
      "text/plain": [
       "6"
      ]
     },
     "execution_count": 49,
     "metadata": {},
     "output_type": "execute_result"
    }
   ],
   "source": [
    "def f11(x):\n",
    "    if len(x) == 0:\n",
    "        raise ValueError(\"need nonempty x.\")\n",
    "    maxval = x[0]\n",
    "    for v in x:\n",
    "        if v >= maxval:\n",
    "            maxval = v\n",
    "    return maxval\n",
    "\n",
    "def f11c(x):\n",
    "    if len(x) == 0:\n",
    "        raise ValueError(\"need nonempty x.\")\n",
    "    return np.max(x)\n",
    "\n",
    "print f11([1,2,3,4,0,6,5,-1])\n",
    "print\n",
    "f11c([1,2,3,4,0,6,5,-1])"
   ]
  },
  {
   "cell_type": "code",
   "execution_count": null,
   "metadata": {
    "collapsed": true
   },
   "outputs": [],
   "source": []
  }
 ],
 "metadata": {
  "kernelspec": {
   "display_name": "Python 2",
   "language": "python",
   "name": "python2"
  },
  "language_info": {
   "codemirror_mode": {
    "name": "ipython",
    "version": 2
   },
   "file_extension": ".py",
   "mimetype": "text/x-python",
   "name": "python",
   "nbconvert_exporter": "python",
   "pygments_lexer": "ipython2",
   "version": "2.7.6"
  }
 },
 "nbformat": 4,
 "nbformat_minor": 0
}
