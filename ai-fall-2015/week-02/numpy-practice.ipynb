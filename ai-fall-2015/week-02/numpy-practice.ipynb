{
 "cells": [
  {
   "cell_type": "code",
   "execution_count": 55,
   "metadata": {
    "collapsed": false
   },
   "outputs": [],
   "source": [
    "def f1(x,y):\n",
    "    result = []\n",
    "    if len(x) != len(y):\n",
    "        raise ValueError(\"Vectors must be same length\")\n",
    "    for i, v in enumerate(x):\n",
    "        result.append(x[i] + y[i])\n",
    "    return result"
   ]
  },
  {
   "cell_type": "code",
   "execution_count": 2,
   "metadata": {
    "collapsed": false
   },
   "outputs": [
    {
     "data": {
      "text/plain": [
       "[6, 12]"
      ]
     },
     "execution_count": 2,
     "metadata": {},
     "output_type": "execute_result"
    }
   ],
   "source": [
    "def f2(a,x):\n",
    "    result = []\n",
    "    for i,v in enumerate(x):\n",
    "        result.append(a * v)\n",
    "    return result\n",
    "\n",
    "f2(2,[3,6])"
   ]
  },
  {
   "cell_type": "code",
   "execution_count": 7,
   "metadata": {
    "collapsed": false
   },
   "outputs": [
    {
     "data": {
      "text/plain": [
       "[0.70710678118654746, 0.70710678118654746]"
      ]
     },
     "execution_count": 7,
     "metadata": {},
     "output_type": "execute_result"
    }
   ],
   "source": [
    "import numpy as math\n",
    "def f3(x):\n",
    "    result = []\n",
    "    norm = 0.0\n",
    "    for v in x:\n",
    "        norm += v*v\n",
    "    norm = math.sqrt(norm)\n",
    "    for i,v in enumerate(x):\n",
    "        result.append( x[i]/norm )\n",
    "    return result\n",
    "\n",
    "f3([4,4])"
   ]
  },
  {
   "cell_type": "code",
   "execution_count": 8,
   "metadata": {
    "collapsed": false
   },
   "outputs": [
    {
     "data": {
      "text/plain": [
       "5.6568542494923806"
      ]
     },
     "execution_count": 8,
     "metadata": {},
     "output_type": "execute_result"
    }
   ],
   "source": [
    "def f4(x):\n",
    "    norm = 0.0\n",
    "    for v in x:\n",
    "        norm += v*v\n",
    "    norm = math.sqrt(norm)\n",
    "    return norm\n",
    "f4([4,4])\n"
   ]
  },
  {
   "cell_type": "code",
   "execution_count": 12,
   "metadata": {
    "collapsed": false
   },
   "outputs": [
    {
     "data": {
      "text/plain": [
       "[0.99752737684336534, 0.99330714907571527, 0.95257412682243336]"
      ]
     },
     "execution_count": 12,
     "metadata": {},
     "output_type": "execute_result"
    }
   ],
   "source": [
    "def f5(x):\n",
    "    sigm = lambda x: (1.0 / (1.0 + math.exp(-x)))\n",
    "    result = []\n",
    "    for v in x:\n",
    "        result.append(sigm(v))\n",
    "    return result\n",
    "\n",
    "f5([6,5,3])"
   ]
  },
  {
   "cell_type": "code",
   "execution_count": 35,
   "metadata": {
    "collapsed": false
   },
   "outputs": [
    {
     "name": "stdout",
     "output_type": "stream",
     "text": [
      "0\n",
      "\n",
      "0\n",
      "\n",
      "1\n",
      "\n",
      "2\n",
      "3\n"
     ]
    },
    {
     "data": {
      "text/plain": [
       "False"
      ]
     },
     "execution_count": 35,
     "metadata": {},
     "output_type": "execute_result"
    }
   ],
   "source": [
    "def f6(m, nrows, ncols):\n",
    "    for i in range(nrows):\n",
    "        print i\n",
    "        print\n",
    "        for j in range(ncols):\n",
    "            print j\n",
    "            print\n",
    "            if m[ncols * i + j] != m[ncols * j + i]:\n",
    "                print m[ncols * i + j]\n",
    "                print m[ncols * j + i]\n",
    "                return False\n",
    "    return True\n",
    "\n",
    "f6([1,2,3],1,2)"
   ]
  },
  {
   "cell_type": "code",
   "execution_count": 39,
   "metadata": {
    "collapsed": false
   },
   "outputs": [
    {
     "data": {
      "text/plain": [
       "12.0"
      ]
     },
     "execution_count": 39,
     "metadata": {},
     "output_type": "execute_result"
    }
   ],
   "source": [
    "def f7(x,y):\n",
    "    s = 0.0\n",
    "    if len(x) != len(y):\n",
    "        raise ValueError(\"lengths differ.\")\n",
    "    for i,v in enumerate(x):\n",
    "        s += x[i] * y[i]\n",
    "    return s\n",
    "\n",
    "f7([1,2],[2,5])"
   ]
  },
  {
   "cell_type": "code",
   "execution_count": 4,
   "metadata": {
    "collapsed": false
   },
   "outputs": [
    {
     "ename": "IndexError",
     "evalue": "list index out of range",
     "output_type": "error",
     "traceback": [
      "\u001b[1;31m---------------------------------------------------------------------------\u001b[0m",
      "\u001b[1;31mIndexError\u001b[0m                                Traceback (most recent call last)",
      "\u001b[1;32m<ipython-input-4-7ad4d61c6b24>\u001b[0m in \u001b[0;36m<module>\u001b[1;34m()\u001b[0m\n\u001b[0;32m      6\u001b[0m         \u001b[0mresult\u001b[0m\u001b[1;33m.\u001b[0m\u001b[0mappend\u001b[0m\u001b[1;33m(\u001b[0m\u001b[0mf7\u001b[0m\u001b[1;33m(\u001b[0m\u001b[0mm\u001b[0m\u001b[1;33m[\u001b[0m\u001b[0mi\u001b[0m \u001b[1;33m*\u001b[0m \u001b[0mncols\u001b[0m \u001b[1;33m:\u001b[0m \u001b[1;33m(\u001b[0m\u001b[0mi\u001b[0m\u001b[1;33m+\u001b[0m\u001b[1;36m1\u001b[0m\u001b[1;33m)\u001b[0m\u001b[1;33m*\u001b[0m\u001b[0mncols\u001b[0m\u001b[1;33m]\u001b[0m\u001b[1;33m,\u001b[0m \u001b[0mx\u001b[0m\u001b[1;33m)\u001b[0m\u001b[1;33m)\u001b[0m\u001b[1;33m\u001b[0m\u001b[0m\n\u001b[0;32m      7\u001b[0m     \u001b[1;32mreturn\u001b[0m \u001b[0mresult\u001b[0m\u001b[1;33m\u001b[0m\u001b[0m\n\u001b[1;32m----> 8\u001b[1;33m \u001b[0mf8\u001b[0m\u001b[1;33m(\u001b[0m\u001b[1;33m[\u001b[0m\u001b[1;36m1\u001b[0m\u001b[1;33m,\u001b[0m\u001b[1;36m2\u001b[0m\u001b[1;33m]\u001b[0m\u001b[1;33m,\u001b[0m\u001b[1;33m[\u001b[0m\u001b[1;33m[\u001b[0m\u001b[1;36m2\u001b[0m\u001b[1;33m]\u001b[0m\u001b[1;33m[\u001b[0m\u001b[1;36m1\u001b[0m\u001b[1;33m]\u001b[0m\u001b[1;33m]\u001b[0m\u001b[1;33m,\u001b[0m\u001b[1;36m2\u001b[0m\u001b[1;33m,\u001b[0m\u001b[1;36m2\u001b[0m\u001b[1;33m)\u001b[0m\u001b[1;33m\u001b[0m\u001b[0m\n\u001b[0m",
      "\u001b[1;31mIndexError\u001b[0m: list index out of range"
     ]
    }
   ],
   "source": [
    "def f8(m, x, nrows, ncols):\n",
    "    result = []\n",
    "    if len(x) != ncols:\n",
    "        raise ValueError(\"m and x have incompatible sizes.\")\n",
    "    for i, v in enumerate(x):\n",
    "        result.append(f7(m[i * ncols : (i+1)*ncols], x))\n",
    "    return result\n",
    "f8([1,2],[[2][1]],2,2)"
   ]
  },
  {
   "cell_type": "code",
   "execution_count": 63,
   "metadata": {
    "collapsed": false
   },
   "outputs": [],
   "source": [
    "import random\n",
    "def f9(length):\n",
    "    result = []\n",
    "    if length <= 0:\n",
    "        raise ValueError(\"Need a positive argument.\")\n",
    "    for i in range(length):\n",
    "        result.append(random.gauss(0, 0.1))\n",
    "    return result"
   ]
  },
  {
   "cell_type": "code",
   "execution_count": 64,
   "metadata": {
    "collapsed": false
   },
   "outputs": [],
   "source": [
    "def f10(x):\n",
    "    if len(x) == 0:\n",
    "        raise ValueError(\"need a nonempty x.\")\n",
    "    minval = x[0]\n",
    "    for v in x:\n",
    "        if v <= minval:\n",
    "            minval = v\n",
    "    return minval"
   ]
  },
  {
   "cell_type": "code",
   "execution_count": 65,
   "metadata": {
    "collapsed": false
   },
   "outputs": [],
   "source": [
    "def f11(x):\n",
    "    if len(x) == 0:\n",
    "        raise ValueError(\"need nonempty x.\")\n",
    "    maxval = x[0]\n",
    "    for v in x:\n",
    "        if v >= maxval:\n",
    "            maxval = v\n",
    "    return maxval"
   ]
  }
 ],
 "metadata": {
  "kernelspec": {
   "display_name": "Python 2",
   "language": "python",
   "name": "python2"
  },
  "language_info": {
   "codemirror_mode": {
    "name": "ipython",
    "version": 2
   },
   "file_extension": ".py",
   "mimetype": "text/x-python",
   "name": "python",
   "nbconvert_exporter": "python",
   "pygments_lexer": "ipython2",
   "version": "2.7.6"
  }
 },
 "nbformat": 4,
 "nbformat_minor": 0
}
