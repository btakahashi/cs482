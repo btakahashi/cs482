{
 "cells": [
  {
   "cell_type": "code",
   "execution_count": 23,
   "metadata": {
    "collapsed": false
   },
   "outputs": [
    {
     "data": {
      "text/plain": [
       "array([3, 6])"
      ]
     },
     "execution_count": 23,
     "metadata": {},
     "output_type": "execute_result"
    }
   ],
   "source": [
    "import numpy as np\n",
    "\n",
    "def f1(x,y):\n",
    "    vec_1 = np.asarray(x)\n",
    "    vec_2 = np.asarray(y)\n",
    "    return np.add(vec_1,vec_2)\n",
    "\n",
    "# adds 2 arrays\n",
    "\n",
    "f1( [1,1],[2,5] )"
   ]
  },
  {
   "cell_type": "code",
   "execution_count": 20,
   "metadata": {
    "collapsed": false
   },
   "outputs": [
    {
     "data": {
      "text/plain": [
       "array([600,  18])"
      ]
     },
     "execution_count": 20,
     "metadata": {},
     "output_type": "execute_result"
    }
   ],
   "source": [
    "def f2(a,x):\n",
    "    return np.multiply(a,x)\n",
    "\n",
    "# multiplies an array by a scalar\n",
    "\n",
    "f2( 6,[100,3] )"
   ]
  },
  {
   "cell_type": "code",
   "execution_count": 47,
   "metadata": {
    "collapsed": false
   },
   "outputs": [
    {
     "data": {
      "text/plain": [
       "array([ 0.70710678,  0.70710678])"
      ]
     },
     "execution_count": 47,
     "metadata": {},
     "output_type": "execute_result"
    }
   ],
   "source": [
    "def f3(x):\n",
    "    arr_1 = np.asarray(x)\n",
    "    norm = 0.0\n",
    "    norm = np.sum(arr_1 * arr_1)\n",
    "    norm = np.sqrt(norm)\n",
    "    \n",
    "    return np.multiply( x, 1/norm )\n",
    "\n",
    "# calcs the norm of each component\n",
    "\n",
    "f3( [1,1] )"
   ]
  },
  {
   "cell_type": "code",
   "execution_count": 34,
   "metadata": {
    "collapsed": false
   },
   "outputs": [
    {
     "data": {
      "text/plain": [
       "5.6568542494923806"
      ]
     },
     "execution_count": 34,
     "metadata": {},
     "output_type": "execute_result"
    }
   ],
   "source": [
    "def f4(x):\n",
    "    return np.linalg.norm(x)\n",
    "\n",
    "# calcs the norm of the whole vector\n",
    "\n",
    "f4( [4,4] )"
   ]
  },
  {
   "cell_type": "code",
   "execution_count": 53,
   "metadata": {
    "collapsed": false
   },
   "outputs": [
    {
     "data": {
      "text/plain": [
       "array([ 0.99330715,  0.98201379,  0.95257413])"
      ]
     },
     "execution_count": 53,
     "metadata": {},
     "output_type": "execute_result"
    }
   ],
   "source": [
    "def f5(x):\n",
    "    npa = np.asarray(x)\n",
    "    sig = lambda x: (1.0 / ( 1.0 + np.exp(-x)))\n",
    "    \n",
    "    return sig(npa)\n",
    "\n",
    "f5([5,4,3])"
   ]
  },
  {
   "cell_type": "code",
   "execution_count": 153,
   "metadata": {
    "collapsed": false
   },
   "outputs": [
    {
     "name": "stdout",
     "output_type": "stream",
     "text": [
      "1\n",
      "1\n",
      "\n",
      "1\n",
      "1\n",
      "\n",
      "3\n"
     ]
    },
    {
     "ename": "IndexError",
     "evalue": "list index out of range",
     "output_type": "error",
     "traceback": [
      "\u001b[1;31m---------------------------------------------------------------------------\u001b[0m",
      "\u001b[1;31mIndexError\u001b[0m                                Traceback (most recent call last)",
      "\u001b[1;32m<ipython-input-153-079c2a46d2a1>\u001b[0m in \u001b[0;36m<module>\u001b[1;34m()\u001b[0m\n\u001b[0;32m     13\u001b[0m     \u001b[1;32mreturn\u001b[0m \u001b[1;36m0\u001b[0m\u001b[1;33m\u001b[0m\u001b[0m\n\u001b[0;32m     14\u001b[0m \u001b[1;33m\u001b[0m\u001b[0m\n\u001b[1;32m---> 15\u001b[1;33m \u001b[1;32mprint\u001b[0m \u001b[0mf6\u001b[0m\u001b[1;33m(\u001b[0m\u001b[1;33m[\u001b[0m\u001b[1;36m1\u001b[0m\u001b[1;33m,\u001b[0m\u001b[1;36m1\u001b[0m\u001b[1;33m,\u001b[0m\u001b[1;36m3\u001b[0m\u001b[1;33m,\u001b[0m\u001b[1;36m1\u001b[0m\u001b[1;33m]\u001b[0m\u001b[1;33m,\u001b[0m\u001b[1;36m1\u001b[0m\u001b[1;33m,\u001b[0m\u001b[1;36m3\u001b[0m\u001b[1;33m)\u001b[0m\u001b[1;33m\u001b[0m\u001b[0m\n\u001b[0m\u001b[0;32m     16\u001b[0m \u001b[1;32mprint\u001b[0m\u001b[1;33m\u001b[0m\u001b[0m\n\u001b[0;32m     17\u001b[0m \u001b[1;31m#print f6c((5,2,9),3,1)\u001b[0m\u001b[1;33m\u001b[0m\u001b[1;33m\u001b[0m\u001b[0m\n",
      "\u001b[1;32m<ipython-input-153-079c2a46d2a1>\u001b[0m in \u001b[0;36mf6\u001b[1;34m(m, nrows, ncols)\u001b[0m\n\u001b[0;32m      3\u001b[0m         \u001b[1;32mfor\u001b[0m \u001b[0mj\u001b[0m \u001b[1;32min\u001b[0m \u001b[0mrange\u001b[0m\u001b[1;33m(\u001b[0m\u001b[0mncols\u001b[0m\u001b[1;33m)\u001b[0m\u001b[1;33m:\u001b[0m\u001b[1;33m\u001b[0m\u001b[0m\n\u001b[0;32m      4\u001b[0m             \u001b[1;32mprint\u001b[0m \u001b[0mm\u001b[0m\u001b[1;33m[\u001b[0m\u001b[0mncols\u001b[0m \u001b[1;33m*\u001b[0m \u001b[0mi\u001b[0m \u001b[1;33m+\u001b[0m \u001b[0mj\u001b[0m\u001b[1;33m]\u001b[0m\u001b[1;33m\u001b[0m\u001b[0m\n\u001b[1;32m----> 5\u001b[1;33m             \u001b[1;32mprint\u001b[0m \u001b[0mm\u001b[0m\u001b[1;33m[\u001b[0m\u001b[0mncols\u001b[0m \u001b[1;33m*\u001b[0m \u001b[0mj\u001b[0m \u001b[1;33m+\u001b[0m \u001b[0mi\u001b[0m\u001b[1;33m]\u001b[0m\u001b[1;33m\u001b[0m\u001b[0m\n\u001b[0m\u001b[0;32m      6\u001b[0m             \u001b[1;32mprint\u001b[0m\u001b[1;33m\u001b[0m\u001b[0m\n\u001b[0;32m      7\u001b[0m             \u001b[1;32mif\u001b[0m \u001b[0mm\u001b[0m\u001b[1;33m[\u001b[0m\u001b[0mncols\u001b[0m \u001b[1;33m*\u001b[0m \u001b[0mi\u001b[0m \u001b[1;33m+\u001b[0m \u001b[0mj\u001b[0m\u001b[1;33m]\u001b[0m \u001b[1;33m!=\u001b[0m \u001b[0mm\u001b[0m\u001b[1;33m[\u001b[0m\u001b[0mncols\u001b[0m \u001b[1;33m*\u001b[0m \u001b[0mj\u001b[0m \u001b[1;33m+\u001b[0m \u001b[0mi\u001b[0m\u001b[1;33m]\u001b[0m\u001b[1;33m:\u001b[0m\u001b[1;33m\u001b[0m\u001b[0m\n",
      "\u001b[1;31mIndexError\u001b[0m: list index out of range"
     ]
    }
   ],
   "source": [
    "def f6(m, nrows, ncols):\n",
    "    for i in range(nrows):\n",
    "        for j in range(ncols):\n",
    "            print m[ncols * i + j]\n",
    "            print m[ncols * j + i]\n",
    "            print\n",
    "            if m[ncols * i + j] != m[ncols * j + i]:\n",
    "                return False\n",
    "    return True\n",
    "\n",
    "def f6c(m, nrows, ncols):\n",
    "    npm = np.matrix(m)\n",
    "    return 0\n",
    "\n",
    "print f6([1,1,3,1],1,3)\n",
    "print\n",
    "#print f6c((5,2,9),3,1)\n"
   ]
  },
  {
   "cell_type": "code",
   "execution_count": 167,
   "metadata": {
    "collapsed": false
   },
   "outputs": [
    {
     "name": "stdout",
     "output_type": "stream",
     "text": [
      "12.0\n"
     ]
    },
    {
     "data": {
      "text/plain": [
       "12"
      ]
     },
     "execution_count": 167,
     "metadata": {},
     "output_type": "execute_result"
    }
   ],
   "source": [
    "def f7(x,y):\n",
    "    s = 0.0\n",
    "    if len(x) != len(y):\n",
    "        raise ValueError(\"lengths differ.\")\n",
    "    for i,v in enumerate(x):\n",
    "        s += x[i] * y[i]\n",
    "    return s\n",
    "\n",
    "def f7c(x,y):\n",
    "    npm = np.matrix(x)\n",
    "    npm_2 = np.matrix(y)\n",
    "    s = np.sum(np.multiply(npm, npm_2))\n",
    "    return s\n",
    "\n",
    "print f7([1,2],[2,5])\n",
    "f7c([1,2],[2,5])"
   ]
  },
  {
   "cell_type": "code",
   "execution_count": 169,
   "metadata": {
    "collapsed": false
   },
   "outputs": [
    {
     "ename": "IndexError",
     "evalue": "list index out of range",
     "output_type": "error",
     "traceback": [
      "\u001b[1;31m---------------------------------------------------------------------------\u001b[0m",
      "\u001b[1;31mIndexError\u001b[0m                                Traceback (most recent call last)",
      "\u001b[1;32m<ipython-input-169-390dde0f5e90>\u001b[0m in \u001b[0;36m<module>\u001b[1;34m()\u001b[0m\n\u001b[0;32m     10\u001b[0m     \u001b[1;32mreturn\u001b[0m \u001b[1;36m0\u001b[0m\u001b[1;33m\u001b[0m\u001b[0m\n\u001b[0;32m     11\u001b[0m \u001b[1;33m\u001b[0m\u001b[0m\n\u001b[1;32m---> 12\u001b[1;33m \u001b[1;32mprint\u001b[0m \u001b[0mf8\u001b[0m\u001b[1;33m(\u001b[0m\u001b[1;33m[\u001b[0m\u001b[1;36m3\u001b[0m\u001b[1;33m,\u001b[0m\u001b[1;36m2\u001b[0m\u001b[1;33m,\u001b[0m\u001b[1;36m1\u001b[0m\u001b[1;33m]\u001b[0m\u001b[1;33m,\u001b[0m\u001b[1;33m[\u001b[0m\u001b[1;36m2\u001b[0m\u001b[1;33m]\u001b[0m\u001b[1;33m[\u001b[0m\u001b[1;36m1\u001b[0m\u001b[1;33m]\u001b[0m\u001b[1;33m[\u001b[0m\u001b[1;36m1\u001b[0m\u001b[1;33m]\u001b[0m\u001b[1;33m,\u001b[0m\u001b[1;36m1\u001b[0m\u001b[1;33m,\u001b[0m\u001b[1;36m3\u001b[0m\u001b[1;33m)\u001b[0m\u001b[1;33m\u001b[0m\u001b[0m\n\u001b[0m",
      "\u001b[1;31mIndexError\u001b[0m: list index out of range"
     ]
    }
   ],
   "source": [
    "def f8(m, x, nrows, ncols):\n",
    "    result = []\n",
    "    if len(x) != ncols:\n",
    "        raise ValueError(\"m and x have incompatible sizes.\")\n",
    "    for i, v in enumerate(x):\n",
    "        result.append(f7(m[i * ncols : (i+1)*ncols], x))\n",
    "    return result\n",
    "\n",
    "def f8c(m,x,nrows,ncols):\n",
    "    return 0\n",
    "\n",
    "print f8([3,2,1],[2][1][1],1,3)"
   ]
  },
  {
   "cell_type": "code",
   "execution_count": 93,
   "metadata": {
    "collapsed": false
   },
   "outputs": [
    {
     "name": "stdout",
     "output_type": "stream",
     "text": [
      "[0.026557021274295635, -0.07655775580135626, -0.049665133836569175, -0.015723382252908567, -0.02323450204974597]\n",
      "\n"
     ]
    },
    {
     "data": {
      "text/plain": [
       "array([ 0.00656201,  0.26596203, -0.14789259, -0.04994129,  0.05739307,\n",
       "       -0.1230581 ])"
      ]
     },
     "execution_count": 93,
     "metadata": {},
     "output_type": "execute_result"
    }
   ],
   "source": [
    "import random\n",
    "def f9(length):\n",
    "    result = []\n",
    "    if length <= 0:\n",
    "        raise ValueError(\"Need a positive argument.\")\n",
    "    for i in range(length):\n",
    "        result.append(random.gauss(0, 0.1))\n",
    "    return result\n",
    "\n",
    "def f9c(length):\n",
    "    if length <= 0:\n",
    "        raise ValueError(\"Need a positive argument.\")\n",
    "    else:\n",
    "        result = np.asarray(np.random.normal(0,0.1,length))\n",
    "    return result\n",
    "print f9(5)\n",
    "print\n",
    "f9c(6)"
   ]
  },
  {
   "cell_type": "code",
   "execution_count": 94,
   "metadata": {
    "collapsed": false
   },
   "outputs": [
    {
     "name": "stdout",
     "output_type": "stream",
     "text": [
      "-1\n",
      "\n"
     ]
    },
    {
     "data": {
      "text/plain": [
       "-1"
      ]
     },
     "execution_count": 94,
     "metadata": {},
     "output_type": "execute_result"
    }
   ],
   "source": [
    "def f10(x):\n",
    "    if len(x) == 0:\n",
    "        raise ValueError(\"need a nonempty x.\")\n",
    "    minval = x[0]\n",
    "    for v in x:\n",
    "        if v <= minval:\n",
    "            minval = v\n",
    "    return minval\n",
    "\n",
    "def f10c(x):\n",
    "    if len(x) == 0:\n",
    "        raise ValueError(\"need a nonempty x.\")\n",
    "    npa = np.asarray(x)\n",
    "    return np.amin(npa)\n",
    "\n",
    "print f10([1,2,3,4,0,6,5,-1])\n",
    "print\n",
    "f10c([1,2,3,4,0,6,5,-1])\n",
    "    "
   ]
  },
  {
   "cell_type": "code",
   "execution_count": 95,
   "metadata": {
    "collapsed": false
   },
   "outputs": [
    {
     "name": "stdout",
     "output_type": "stream",
     "text": [
      "6\n",
      "\n"
     ]
    },
    {
     "data": {
      "text/plain": [
       "6"
      ]
     },
     "execution_count": 95,
     "metadata": {},
     "output_type": "execute_result"
    }
   ],
   "source": [
    "def f11(x):\n",
    "    if len(x) == 0:\n",
    "        raise ValueError(\"need nonempty x.\")\n",
    "    maxval = x[0]\n",
    "    for v in x:\n",
    "        if v >= maxval:\n",
    "            maxval = v\n",
    "    return maxval\n",
    "\n",
    "def f11c(x):\n",
    "    if len(x) == 0:\n",
    "        raise ValueError(\"need nonempty x.\")\n",
    "    return np.max(x)\n",
    "\n",
    "print f11([1,2,3,4,0,6,5,-1])\n",
    "print\n",
    "f11c([1,2,3,4,0,6,5,-1])"
   ]
  },
  {
   "cell_type": "code",
   "execution_count": null,
   "metadata": {
    "collapsed": true
   },
   "outputs": [],
   "source": []
  }
 ],
 "metadata": {
  "kernelspec": {
   "display_name": "Python 2",
   "language": "python",
   "name": "python2"
  },
  "language_info": {
   "codemirror_mode": {
    "name": "ipython",
    "version": 2
   },
   "file_extension": ".py",
   "mimetype": "text/x-python",
   "name": "python",
   "nbconvert_exporter": "python",
   "pygments_lexer": "ipython2",
   "version": "2.7.6"
  }
 },
 "nbformat": 4,
 "nbformat_minor": 0
}
